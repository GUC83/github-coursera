{
    "cells": [
        {
            "cell_type": "markdown",
            "metadata": {
                "collapsed": true
            },
            "source": "# THE BATTLE OF NEIGHBORHOODS FROM COURSERA CAPSTONE"
        },
        {
            "cell_type": "markdown",
            "metadata": {},
            "source": "By Gast\u00f3n Costa"
        },
        {
            "cell_type": "markdown",
            "metadata": {},
            "source": "# Introduction"
        },
        {
            "cell_type": "markdown",
            "metadata": {},
            "source": "The problem:\n\nHello my name is Gast\u00f3n I am from Argentina but I have been living in Barcelona for 10 years. I have a degree in food science and technology.\nNot long ago in my family a member has developed a food allergy, specifically gluten.\n\nWithin the day to day at home it is easier to change the way you cook and adapt.\n\nThe problem we encounter is when it comes to being away from home. We are lovers of breakfast and snacks, so lately it is difficult to find places where you can have a quiet breakfast since gluten is present in many foods. We also found the problem the same problem when traveling to other cities and countries."
        },
        {
            "cell_type": "markdown",
            "metadata": {},
            "source": "Business Model:\n\nThrough this work, I want to help people who suffer from a food allergy to gluten or who are celiac to be able to draw a map of places where they can enjoy a meal or breakfast without problems.\nI will apply it to the city I live in and in Toronto as an example of another city we will visit."
        },
        {
            "cell_type": "markdown",
            "metadata": {},
            "source": "# Data"
        },
        {
            "cell_type": "markdown",
            "metadata": {},
            "source": "Description of the data and how it will be used to solve the problem\nThe following data will be used:"
        },
        {
            "cell_type": "markdown",
            "metadata": {},
            "source": "- List of Boroughs and neighborhoods of Barcelona with their geodata;\n- List of Boroughs and neighborhoods of Toronto with their geodata;\n- List of place whit gluten free description of Barcelona with their geodata;\n- List of place whit gluten free description of Toronto with their geodata."
        },
        {
            "cell_type": "markdown",
            "metadata": {},
            "source": "# Data Sources"
        },
        {
            "cell_type": "markdown",
            "metadata": {},
            "source": "- Boroughs and neighborhoods of Barcelona from Wikipedia (https://es.wikipedia.org/wiki/Distritos_de_Barcelona);\n- Boroughs and neighborhoods of Totonto from Wikipedia (https://es.wikipedia.org/wiki/%C3%81rea_metropolitana_de_Toronto);\n- Geocode information from Geopy;\n- Gluten Free in Barcelona and Toronto from Foursquare"
        },
        {
            "cell_type": "markdown",
            "metadata": {},
            "source": "# Methodology\n"
        },
        {
            "cell_type": "markdown",
            "metadata": {},
            "source": "- The neighborhood where i live in Barcelona will be individuated\n- The number of gluten free shops will be extrapolated.\n- Different neighborhoods in Toronto we'll be anallyzed and we'll select just the ones with at least the same amount of gluten free shop present in my actual neighborhood\n- A map with places to eat will make things easier to eat."
        },
        {
            "cell_type": "markdown",
            "metadata": {},
            "source": "# Importing libraries"
        },
        {
            "cell_type": "code",
            "execution_count": 2,
            "metadata": {},
            "outputs": [
                {
                    "name": "stdout",
                    "output_type": "stream",
                    "text": "Requirement already satisfied: geopy in /opt/conda/envs/Python36/lib/python3.6/site-packages (1.18.1)\nRequirement already satisfied: geographiclib<2,>=1.49 in /opt/conda/envs/Python36/lib/python3.6/site-packages (from geopy) (1.49)\nRequirement already satisfied: folium in /opt/conda/envs/Python36/lib/python3.6/site-packages (0.10.1)\nRequirement already satisfied: numpy in /opt/conda/envs/Python36/lib/python3.6/site-packages (from folium) (1.15.4)\nRequirement already satisfied: jinja2>=2.9 in /opt/conda/envs/Python36/lib/python3.6/site-packages (from folium) (2.10)\nRequirement already satisfied: requests in /opt/conda/envs/Python36/lib/python3.6/site-packages (from folium) (2.21.0)\nRequirement already satisfied: branca>=0.3.0 in /opt/conda/envs/Python36/lib/python3.6/site-packages (from folium) (0.3.1)\nRequirement already satisfied: MarkupSafe>=0.23 in /opt/conda/envs/Python36/lib/python3.6/site-packages (from jinja2>=2.9->folium) (1.1.0)\nRequirement already satisfied: idna<2.9,>=2.5 in /opt/conda/envs/Python36/lib/python3.6/site-packages (from requests->folium) (2.8)\nRequirement already satisfied: certifi>=2017.4.17 in /opt/conda/envs/Python36/lib/python3.6/site-packages (from requests->folium) (2019.11.28)\nRequirement already satisfied: chardet<3.1.0,>=3.0.2 in /opt/conda/envs/Python36/lib/python3.6/site-packages (from requests->folium) (3.0.4)\nRequirement already satisfied: urllib3<1.25,>=1.21.1 in /opt/conda/envs/Python36/lib/python3.6/site-packages (from requests->folium) (1.24.1)\nRequirement already satisfied: six in /opt/conda/envs/Python36/lib/python3.6/site-packages (from branca>=0.3.0->folium) (1.12.0)\n"
                }
            ],
            "source": "import numpy as np # library to handle data in a vectorized manner\nimport time\nimport pandas as pd # library for data analsysis\npd.set_option('display.max_columns', None)\npd.set_option('display.max_rows', None)\n\nimport json # library to handle JSON files\nimport requests # library to handle requests\nfrom pandas.io.json import json_normalize # tranform JSON file into a pandas dataframe\n\n\n!pip install geopy \nfrom geopy.geocoders import Nominatim # convert an address into latitude and longitude values\n\n!pip install folium\nimport folium # map rendering library\nfrom folium import plugins\n\n# Matplotlib and associated plotting modules\nimport matplotlib.cm as cm\nimport matplotlib.colors as colors\n\nimport seaborn as sns\n\n# import k-means from clustering stage\nfrom sklearn.cluster import KMeans"
        },
        {
            "cell_type": "code",
            "execution_count": null,
            "metadata": {},
            "outputs": [],
            "source": ""
        }
    ],
    "metadata": {
        "kernelspec": {
            "display_name": "Python 3.6",
            "language": "python",
            "name": "python3"
        },
        "language_info": {
            "codemirror_mode": {
                "name": "ipython",
                "version": 3
            },
            "file_extension": ".py",
            "mimetype": "text/x-python",
            "name": "python",
            "nbconvert_exporter": "python",
            "pygments_lexer": "ipython3",
            "version": "3.6.8"
        }
    },
    "nbformat": 4,
    "nbformat_minor": 1
}